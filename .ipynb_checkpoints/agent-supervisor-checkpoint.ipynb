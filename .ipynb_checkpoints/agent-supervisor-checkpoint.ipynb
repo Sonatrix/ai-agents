{
 "cells": [
  {
   "cell_type": "code",
   "execution_count": null,
   "id": "6dba25d2-7a39-4cc5-a052-0ecda805cf46",
   "metadata": {},
   "outputs": [
    {
     "name": "stdout",
     "output_type": "stream",
     "text": [
      "\u001b[2mResolved \u001b[1m152 packages\u001b[0m \u001b[2min 7ms\u001b[0m\u001b[0m\n",
      "\u001b[2mAudited \u001b[1m147 packages\u001b[0m \u001b[2min 0.17ms\u001b[0m\u001b[0m\n",
      "\u001b[2mResolved \u001b[1m152 packages\u001b[0m \u001b[2min 6ms\u001b[0m\u001b[0m\n",
      "\u001b[2mAudited \u001b[1m147 packages\u001b[0m \u001b[2min 0.11ms\u001b[0m\u001b[0m\n",
      "\u001b[2mResolved \u001b[1m152 packages\u001b[0m \u001b[2min 8ms\u001b[0m\u001b[0m\n",
      "\u001b[2mAudited \u001b[1m147 packages\u001b[0m \u001b[2min 0.11ms\u001b[0m\u001b[0m\n",
      "\u001b[2mResolved \u001b[1m152 packages\u001b[0m \u001b[2min 15ms\u001b[0m\u001b[0m\n",
      "\u001b[2mAudited \u001b[1m147 packages\u001b[0m \u001b[2min 0.07ms\u001b[0m\u001b[0m\n",
      "\u001b[2K\u001b[2mResolved \u001b[1m156 packages\u001b[0m \u001b[2min 1.11s\u001b[0m\u001b[0m                                       \u001b[0m\n",
      "\u001b[2K███████████████░░░░░ [3/4] \u001b[2msqlalchemy==2.0.41                                   \u001b[0m     \u001b[0m"
     ]
    }
   ],
   "source": [
    "!uv add langgraph-swarm\n",
    "!uv add langgraph-supervisor\n",
    "\n",
    "!uv add langchain_openai\n",
    "!uv add langchain-ollama\n",
    "!uv add langchain"
   ]
  },
  {
   "cell_type": "code",
   "execution_count": 9,
   "id": "f9652cd2-01a1-4ac5-a6ec-971023d6ffeb",
   "metadata": {},
   "outputs": [],
   "source": [
    "from langchain_openai import ChatOpenAI\n",
    "from langgraph.prebuilt import create_react_agent\n",
    "from langgraph_supervisor import create_supervisor\n",
    "from langchain_ollama.chat_models import ChatOllama"
   ]
  },
  {
   "cell_type": "code",
   "execution_count": 10,
   "id": "f8d1d980-7493-4638-b1b3-50149e66633e",
   "metadata": {},
   "outputs": [],
   "source": [
    "model_name=\"qwen3:4b\"\n",
    "\n",
    "# Initialize the language model\n",
    "llm = ChatOllama(model=model_name)\n",
    "\n",
    "model = \"ollama/\" + model_name"
   ]
  },
  {
   "cell_type": "code",
   "execution_count": 11,
   "id": "9b47f4fe-14e6-490c-8da9-eb54d7c5d65b",
   "metadata": {},
   "outputs": [
    {
     "ename": "ImportError",
     "evalue": "Please install langchain (`pip install langchain`) to use '<provider>:<model>' string syntax for `model` parameter.",
     "output_type": "error",
     "traceback": [
      "\u001b[31m---------------------------------------------------------------------------\u001b[39m",
      "\u001b[31mModuleNotFoundError\u001b[39m                       Traceback (most recent call last)",
      "\u001b[36mFile \u001b[39m\u001b[32m/mnt/d/git/AI/ai-agents/.venv/lib/python3.13/site-packages/langgraph/prebuilt/chat_agent_executor.py:434\u001b[39m, in \u001b[36mcreate_react_agent\u001b[39m\u001b[34m(model, tools, prompt, response_format, pre_model_hook, post_model_hook, state_schema, config_schema, checkpointer, store, interrupt_before, interrupt_after, debug, version, name)\u001b[39m\n\u001b[32m    433\u001b[39m \u001b[38;5;28;01mtry\u001b[39;00m:\n\u001b[32m--> \u001b[39m\u001b[32m434\u001b[39m     \u001b[38;5;28;01mfrom\u001b[39;00m\u001b[38;5;250m \u001b[39m\u001b[34;01mlangchain\u001b[39;00m\u001b[34;01m.\u001b[39;00m\u001b[34;01mchat_models\u001b[39;00m\u001b[38;5;250m \u001b[39m\u001b[38;5;28;01mimport\u001b[39;00m (  \u001b[38;5;66;03m# type: ignore[import-not-found]\u001b[39;00m\n\u001b[32m    435\u001b[39m         init_chat_model,\n\u001b[32m    436\u001b[39m     )\n\u001b[32m    437\u001b[39m \u001b[38;5;28;01mexcept\u001b[39;00m \u001b[38;5;167;01mImportError\u001b[39;00m:\n",
      "\u001b[31mModuleNotFoundError\u001b[39m: No module named 'langchain'",
      "\nDuring handling of the above exception, another exception occurred:\n",
      "\u001b[31mImportError\u001b[39m                               Traceback (most recent call last)",
      "\u001b[36mCell\u001b[39m\u001b[36m \u001b[39m\u001b[32mIn[11]\u001b[39m\u001b[32m, line 9\u001b[39m\n\u001b[32m      6\u001b[39m \u001b[38;5;250m    \u001b[39m\u001b[33;03m\"\"\"Book a flight\"\"\"\u001b[39;00m\n\u001b[32m      7\u001b[39m     \u001b[38;5;28;01mreturn\u001b[39;00m \u001b[33mf\u001b[39m\u001b[33m\"\u001b[39m\u001b[33mSuccessfully booked a flight from \u001b[39m\u001b[38;5;132;01m{\u001b[39;00mfrom_airport\u001b[38;5;132;01m}\u001b[39;00m\u001b[33m to \u001b[39m\u001b[38;5;132;01m{\u001b[39;00mto_airport\u001b[38;5;132;01m}\u001b[39;00m\u001b[33m.\u001b[39m\u001b[33m\"\u001b[39m\n\u001b[32m----> \u001b[39m\u001b[32m9\u001b[39m flight_assistant = \u001b[43mcreate_react_agent\u001b[49m\u001b[43m(\u001b[49m\n\u001b[32m     10\u001b[39m \u001b[43m    \u001b[49m\u001b[43mmodel\u001b[49m\u001b[43m=\u001b[49m\u001b[43mmodel\u001b[49m\u001b[43m,\u001b[49m\n\u001b[32m     11\u001b[39m \u001b[43m    \u001b[49m\u001b[43mtools\u001b[49m\u001b[43m=\u001b[49m\u001b[43m[\u001b[49m\u001b[43mbook_flight\u001b[49m\u001b[43m]\u001b[49m\u001b[43m,\u001b[49m\n\u001b[32m     12\u001b[39m \u001b[43m    \u001b[49m\u001b[43mprompt\u001b[49m\u001b[43m=\u001b[49m\u001b[33;43m\"\u001b[39;49m\u001b[33;43mYou are a flight booking assistant\u001b[39;49m\u001b[33;43m\"\u001b[39;49m\u001b[43m,\u001b[49m\n\u001b[32m     13\u001b[39m \u001b[43m    \u001b[49m\u001b[43mname\u001b[49m\u001b[43m=\u001b[49m\u001b[33;43m\"\u001b[39;49m\u001b[33;43mflight_assistant\u001b[39;49m\u001b[33;43m\"\u001b[39;49m\n\u001b[32m     14\u001b[39m \u001b[43m)\u001b[49m\n\u001b[32m     16\u001b[39m hotel_assistant = create_react_agent(\n\u001b[32m     17\u001b[39m     model=model,\n\u001b[32m     18\u001b[39m     tools=[book_hotel],\n\u001b[32m     19\u001b[39m     prompt=\u001b[33m\"\u001b[39m\u001b[33mYou are a hotel booking assistant\u001b[39m\u001b[33m\"\u001b[39m,\n\u001b[32m     20\u001b[39m     name=\u001b[33m\"\u001b[39m\u001b[33mhotel_assistant\u001b[39m\u001b[33m\"\u001b[39m\n\u001b[32m     21\u001b[39m )\n\u001b[32m     23\u001b[39m supervisor = create_supervisor(\n\u001b[32m     24\u001b[39m     agents=[flight_assistant, hotel_assistant],\n\u001b[32m     25\u001b[39m     model=ChatOllama(model=model_name),\n\u001b[32m   (...)\u001b[39m\u001b[32m     29\u001b[39m     )\n\u001b[32m     30\u001b[39m ).compile()\n",
      "\u001b[36mFile \u001b[39m\u001b[32m/mnt/d/git/AI/ai-agents/.venv/lib/python3.13/site-packages/langgraph/prebuilt/chat_agent_executor.py:438\u001b[39m, in \u001b[36mcreate_react_agent\u001b[39m\u001b[34m(model, tools, prompt, response_format, pre_model_hook, post_model_hook, state_schema, config_schema, checkpointer, store, interrupt_before, interrupt_after, debug, version, name)\u001b[39m\n\u001b[32m    434\u001b[39m         \u001b[38;5;28;01mfrom\u001b[39;00m\u001b[38;5;250m \u001b[39m\u001b[34;01mlangchain\u001b[39;00m\u001b[34;01m.\u001b[39;00m\u001b[34;01mchat_models\u001b[39;00m\u001b[38;5;250m \u001b[39m\u001b[38;5;28;01mimport\u001b[39;00m (  \u001b[38;5;66;03m# type: ignore[import-not-found]\u001b[39;00m\n\u001b[32m    435\u001b[39m             init_chat_model,\n\u001b[32m    436\u001b[39m         )\n\u001b[32m    437\u001b[39m     \u001b[38;5;28;01mexcept\u001b[39;00m \u001b[38;5;167;01mImportError\u001b[39;00m:\n\u001b[32m--> \u001b[39m\u001b[32m438\u001b[39m         \u001b[38;5;28;01mraise\u001b[39;00m \u001b[38;5;167;01mImportError\u001b[39;00m(\n\u001b[32m    439\u001b[39m             \u001b[33m\"\u001b[39m\u001b[33mPlease install langchain (`pip install langchain`) to use \u001b[39m\u001b[33m'\u001b[39m\u001b[33m<provider>:<model>\u001b[39m\u001b[33m'\u001b[39m\u001b[33m string syntax for `model` parameter.\u001b[39m\u001b[33m\"\u001b[39m\n\u001b[32m    440\u001b[39m         )\n\u001b[32m    442\u001b[39m     model = cast(BaseChatModel, init_chat_model(model))\n\u001b[32m    444\u001b[39m tool_calling_enabled = \u001b[38;5;28mlen\u001b[39m(tool_classes) > \u001b[32m0\u001b[39m\n",
      "\u001b[31mImportError\u001b[39m: Please install langchain (`pip install langchain`) to use '<provider>:<model>' string syntax for `model` parameter."
     ]
    }
   ],
   "source": [
    "def book_hotel(hotel_name: str):\n",
    "    \"\"\"Book a hotel\"\"\"\n",
    "    return f\"Successfully booked a stay at {hotel_name}.\"\n",
    "\n",
    "def book_flight(from_airport: str, to_airport: str):\n",
    "    \"\"\"Book a flight\"\"\"\n",
    "    return f\"Successfully booked a flight from {from_airport} to {to_airport}.\"\n",
    "\n",
    "flight_assistant = create_react_agent(\n",
    "    model=model,\n",
    "    tools=[book_flight],\n",
    "    prompt=\"You are a flight booking assistant\",\n",
    "    name=\"flight_assistant\"\n",
    ")\n",
    "\n",
    "hotel_assistant = create_react_agent(\n",
    "    model=model,\n",
    "    tools=[book_hotel],\n",
    "    prompt=\"You are a hotel booking assistant\",\n",
    "    name=\"hotel_assistant\"\n",
    ")\n",
    "\n",
    "supervisor = create_supervisor(\n",
    "    agents=[flight_assistant, hotel_assistant],\n",
    "    model=ChatOllama(model=model_name),\n",
    "    prompt=(\n",
    "        \"You manage a hotel booking assistant and a\"\n",
    "        \"flight booking assistant. Assign work to them.\"\n",
    "    )\n",
    ").compile()"
   ]
  },
  {
   "cell_type": "code",
   "execution_count": null,
   "id": "28907c2d-d501-4306-8ec4-74ea7d4baac1",
   "metadata": {},
   "outputs": [],
   "source": []
  }
 ],
 "metadata": {
  "kernelspec": {
   "display_name": "Python 3 (ipykernel)",
   "language": "python",
   "name": "python3"
  },
  "language_info": {
   "codemirror_mode": {
    "name": "ipython",
    "version": 3
   },
   "file_extension": ".py",
   "mimetype": "text/x-python",
   "name": "python",
   "nbconvert_exporter": "python",
   "pygments_lexer": "ipython3",
   "version": "3.13.2"
  }
 },
 "nbformat": 4,
 "nbformat_minor": 5
}
