{
 "cells": [
  {
   "cell_type": "code",
   "execution_count": 12,
   "id": "6dba25d2-7a39-4cc5-a052-0ecda805cf46",
   "metadata": {},
   "outputs": [
    {
     "name": "stdout",
     "output_type": "stream",
     "text": [
      "\u001b[2mResolved \u001b[1m152 packages\u001b[0m \u001b[2min 7ms\u001b[0m\u001b[0m\n",
      "\u001b[2mAudited \u001b[1m147 packages\u001b[0m \u001b[2min 0.17ms\u001b[0m\u001b[0m\n",
      "\u001b[2mResolved \u001b[1m152 packages\u001b[0m \u001b[2min 6ms\u001b[0m\u001b[0m\n",
      "\u001b[2mAudited \u001b[1m147 packages\u001b[0m \u001b[2min 0.11ms\u001b[0m\u001b[0m\n",
      "\u001b[2mResolved \u001b[1m152 packages\u001b[0m \u001b[2min 8ms\u001b[0m\u001b[0m\n",
      "\u001b[2mAudited \u001b[1m147 packages\u001b[0m \u001b[2min 0.11ms\u001b[0m\u001b[0m\n",
      "\u001b[2mResolved \u001b[1m152 packages\u001b[0m \u001b[2min 15ms\u001b[0m\u001b[0m\n",
      "\u001b[2mAudited \u001b[1m147 packages\u001b[0m \u001b[2min 0.07ms\u001b[0m\u001b[0m\n",
      "\u001b[2K\u001b[2mResolved \u001b[1m156 packages\u001b[0m \u001b[2min 1.11s\u001b[0m\u001b[0m                                       \u001b[0m\n",
      "\u001b[2K\u001b[2mInstalled \u001b[1m4 packages\u001b[0m \u001b[2min 29.61s\u001b[0m\u001b[0m                              \u001b[0m     \u001b[0m\n",
      " \u001b[32m+\u001b[39m \u001b[1mgreenlet\u001b[0m\u001b[2m==3.2.2\u001b[0m\n",
      " \u001b[32m+\u001b[39m \u001b[1mlangchain\u001b[0m\u001b[2m==0.3.25\u001b[0m\n",
      " \u001b[32m+\u001b[39m \u001b[1mlangchain-text-splitters\u001b[0m\u001b[2m==0.3.8\u001b[0m\n",
      " \u001b[32m+\u001b[39m \u001b[1msqlalchemy\u001b[0m\u001b[2m==2.0.41\u001b[0m\n"
     ]
    }
   ],
   "source": [
    "!uv add langgraph-swarm\n",
    "!uv add langgraph-supervisor\n",
    "\n",
    "!uv add langchain_openai\n",
    "!uv add langchain-ollama\n",
    "!uv add langchain"
   ]
  },
  {
   "cell_type": "code",
   "execution_count": 9,
   "id": "f9652cd2-01a1-4ac5-a6ec-971023d6ffeb",
   "metadata": {},
   "outputs": [],
   "source": [
    "from langchain_openai import ChatOpenAI\n",
    "from langgraph.prebuilt import create_react_agent\n",
    "from langgraph_supervisor import create_supervisor\n",
    "from langchain_ollama.chat_models import ChatOllama"
   ]
  },
  {
   "cell_type": "code",
   "execution_count": 10,
   "id": "f8d1d980-7493-4638-b1b3-50149e66633e",
   "metadata": {},
   "outputs": [],
   "source": [
    "model_name=\"qwen3:4b\"\n",
    "\n",
    "# Initialize the language model\n",
    "llm = ChatOllama(model=model_name)\n",
    "\n",
    "model = \"ollama/\" + model_name"
   ]
  },
  {
   "cell_type": "code",
   "execution_count": 13,
   "id": "9b47f4fe-14e6-490c-8da9-eb54d7c5d65b",
   "metadata": {},
   "outputs": [
    {
     "ename": "ValueError",
     "evalue": "Unable to infer model provider for model='ollama/qwen3:4b', please specify model_provider directly.",
     "output_type": "error",
     "traceback": [
      "\u001b[31m---------------------------------------------------------------------------\u001b[39m",
      "\u001b[31mValueError\u001b[39m                                Traceback (most recent call last)",
      "\u001b[36mCell\u001b[39m\u001b[36m \u001b[39m\u001b[32mIn[13]\u001b[39m\u001b[32m, line 9\u001b[39m\n\u001b[32m      6\u001b[39m \u001b[38;5;250m    \u001b[39m\u001b[33;03m\"\"\"Book a flight\"\"\"\u001b[39;00m\n\u001b[32m      7\u001b[39m     \u001b[38;5;28;01mreturn\u001b[39;00m \u001b[33mf\u001b[39m\u001b[33m\"\u001b[39m\u001b[33mSuccessfully booked a flight from \u001b[39m\u001b[38;5;132;01m{\u001b[39;00mfrom_airport\u001b[38;5;132;01m}\u001b[39;00m\u001b[33m to \u001b[39m\u001b[38;5;132;01m{\u001b[39;00mto_airport\u001b[38;5;132;01m}\u001b[39;00m\u001b[33m.\u001b[39m\u001b[33m\"\u001b[39m\n\u001b[32m----> \u001b[39m\u001b[32m9\u001b[39m flight_assistant = \u001b[43mcreate_react_agent\u001b[49m\u001b[43m(\u001b[49m\n\u001b[32m     10\u001b[39m \u001b[43m    \u001b[49m\u001b[43mmodel\u001b[49m\u001b[43m=\u001b[49m\u001b[43mmodel\u001b[49m\u001b[43m,\u001b[49m\n\u001b[32m     11\u001b[39m \u001b[43m    \u001b[49m\u001b[43mtools\u001b[49m\u001b[43m=\u001b[49m\u001b[43m[\u001b[49m\u001b[43mbook_flight\u001b[49m\u001b[43m]\u001b[49m\u001b[43m,\u001b[49m\n\u001b[32m     12\u001b[39m \u001b[43m    \u001b[49m\u001b[43mprompt\u001b[49m\u001b[43m=\u001b[49m\u001b[33;43m\"\u001b[39;49m\u001b[33;43mYou are a flight booking assistant\u001b[39;49m\u001b[33;43m\"\u001b[39;49m\u001b[43m,\u001b[49m\n\u001b[32m     13\u001b[39m \u001b[43m    \u001b[49m\u001b[43mname\u001b[49m\u001b[43m=\u001b[49m\u001b[33;43m\"\u001b[39;49m\u001b[33;43mflight_assistant\u001b[39;49m\u001b[33;43m\"\u001b[39;49m\n\u001b[32m     14\u001b[39m \u001b[43m)\u001b[49m\n\u001b[32m     16\u001b[39m hotel_assistant = create_react_agent(\n\u001b[32m     17\u001b[39m     model=model,\n\u001b[32m     18\u001b[39m     tools=[book_hotel],\n\u001b[32m     19\u001b[39m     prompt=\u001b[33m\"\u001b[39m\u001b[33mYou are a hotel booking assistant\u001b[39m\u001b[33m\"\u001b[39m,\n\u001b[32m     20\u001b[39m     name=\u001b[33m\"\u001b[39m\u001b[33mhotel_assistant\u001b[39m\u001b[33m\"\u001b[39m\n\u001b[32m     21\u001b[39m )\n\u001b[32m     23\u001b[39m supervisor = create_supervisor(\n\u001b[32m     24\u001b[39m     agents=[flight_assistant, hotel_assistant],\n\u001b[32m     25\u001b[39m     model=ChatOllama(model=model_name),\n\u001b[32m   (...)\u001b[39m\u001b[32m     29\u001b[39m     )\n\u001b[32m     30\u001b[39m ).compile()\n",
      "\u001b[36mFile \u001b[39m\u001b[32m/mnt/d/git/AI/ai-agents/.venv/lib/python3.13/site-packages/langgraph/prebuilt/chat_agent_executor.py:442\u001b[39m, in \u001b[36mcreate_react_agent\u001b[39m\u001b[34m(model, tools, prompt, response_format, pre_model_hook, post_model_hook, state_schema, config_schema, checkpointer, store, interrupt_before, interrupt_after, debug, version, name)\u001b[39m\n\u001b[32m    437\u001b[39m     \u001b[38;5;28;01mexcept\u001b[39;00m \u001b[38;5;167;01mImportError\u001b[39;00m:\n\u001b[32m    438\u001b[39m         \u001b[38;5;28;01mraise\u001b[39;00m \u001b[38;5;167;01mImportError\u001b[39;00m(\n\u001b[32m    439\u001b[39m             \u001b[33m\"\u001b[39m\u001b[33mPlease install langchain (`pip install langchain`) to use \u001b[39m\u001b[33m'\u001b[39m\u001b[33m<provider>:<model>\u001b[39m\u001b[33m'\u001b[39m\u001b[33m string syntax for `model` parameter.\u001b[39m\u001b[33m\"\u001b[39m\n\u001b[32m    440\u001b[39m         )\n\u001b[32m--> \u001b[39m\u001b[32m442\u001b[39m     model = cast(BaseChatModel, \u001b[43minit_chat_model\u001b[49m\u001b[43m(\u001b[49m\u001b[43mmodel\u001b[49m\u001b[43m)\u001b[49m)\n\u001b[32m    444\u001b[39m tool_calling_enabled = \u001b[38;5;28mlen\u001b[39m(tool_classes) > \u001b[32m0\u001b[39m\n\u001b[32m    446\u001b[39m \u001b[38;5;28;01mif\u001b[39;00m (\n\u001b[32m    447\u001b[39m     _should_bind_tools(model, tool_classes)\n\u001b[32m    448\u001b[39m     \u001b[38;5;129;01mand\u001b[39;00m \u001b[38;5;28mlen\u001b[39m(tool_classes) > \u001b[32m0\u001b[39m\n\u001b[32m    449\u001b[39m     \u001b[38;5;129;01mor\u001b[39;00m (\u001b[38;5;28mlen\u001b[39m(llm_builtin_tools) > \u001b[32m0\u001b[39m)\n\u001b[32m    450\u001b[39m ):\n",
      "\u001b[36mFile \u001b[39m\u001b[32m/mnt/d/git/AI/ai-agents/.venv/lib/python3.13/site-packages/langchain/chat_models/base.py:322\u001b[39m, in \u001b[36minit_chat_model\u001b[39m\u001b[34m(model, model_provider, configurable_fields, config_prefix, **kwargs)\u001b[39m\n\u001b[32m    315\u001b[39m     warnings.warn(\n\u001b[32m    316\u001b[39m         \u001b[33mf\u001b[39m\u001b[33m\"\u001b[39m\u001b[38;5;132;01m{\u001b[39;00mconfig_prefix\u001b[38;5;132;01m=}\u001b[39;00m\u001b[33m has been set but no fields are configurable. Set \u001b[39m\u001b[33m\"\u001b[39m\n\u001b[32m    317\u001b[39m         \u001b[33mf\u001b[39m\u001b[33m\"\u001b[39m\u001b[33m`configurable_fields=(...)` to specify the model params that are \u001b[39m\u001b[33m\"\u001b[39m\n\u001b[32m    318\u001b[39m         \u001b[33mf\u001b[39m\u001b[33m\"\u001b[39m\u001b[33mconfigurable.\u001b[39m\u001b[33m\"\u001b[39m\n\u001b[32m    319\u001b[39m     )\n\u001b[32m    321\u001b[39m \u001b[38;5;28;01mif\u001b[39;00m \u001b[38;5;129;01mnot\u001b[39;00m configurable_fields:\n\u001b[32m--> \u001b[39m\u001b[32m322\u001b[39m     \u001b[38;5;28;01mreturn\u001b[39;00m \u001b[43m_init_chat_model_helper\u001b[49m\u001b[43m(\u001b[49m\n\u001b[32m    323\u001b[39m \u001b[43m        \u001b[49m\u001b[43mcast\u001b[49m\u001b[43m(\u001b[49m\u001b[38;5;28;43mstr\u001b[39;49m\u001b[43m,\u001b[49m\u001b[43m \u001b[49m\u001b[43mmodel\u001b[49m\u001b[43m)\u001b[49m\u001b[43m,\u001b[49m\u001b[43m \u001b[49m\u001b[43mmodel_provider\u001b[49m\u001b[43m=\u001b[49m\u001b[43mmodel_provider\u001b[49m\u001b[43m,\u001b[49m\u001b[43m \u001b[49m\u001b[43m*\u001b[49m\u001b[43m*\u001b[49m\u001b[43mkwargs\u001b[49m\n\u001b[32m    324\u001b[39m \u001b[43m    \u001b[49m\u001b[43m)\u001b[49m\n\u001b[32m    325\u001b[39m \u001b[38;5;28;01melse\u001b[39;00m:\n\u001b[32m    326\u001b[39m     \u001b[38;5;28;01mif\u001b[39;00m model:\n",
      "\u001b[36mFile \u001b[39m\u001b[32m/mnt/d/git/AI/ai-agents/.venv/lib/python3.13/site-packages/langchain/chat_models/base.py:340\u001b[39m, in \u001b[36m_init_chat_model_helper\u001b[39m\u001b[34m(model, model_provider, **kwargs)\u001b[39m\n\u001b[32m    337\u001b[39m \u001b[38;5;28;01mdef\u001b[39;00m\u001b[38;5;250m \u001b[39m\u001b[34m_init_chat_model_helper\u001b[39m(\n\u001b[32m    338\u001b[39m     model: \u001b[38;5;28mstr\u001b[39m, *, model_provider: Optional[\u001b[38;5;28mstr\u001b[39m] = \u001b[38;5;28;01mNone\u001b[39;00m, **kwargs: Any\n\u001b[32m    339\u001b[39m ) -> BaseChatModel:\n\u001b[32m--> \u001b[39m\u001b[32m340\u001b[39m     model, model_provider = \u001b[43m_parse_model\u001b[49m\u001b[43m(\u001b[49m\u001b[43mmodel\u001b[49m\u001b[43m,\u001b[49m\u001b[43m \u001b[49m\u001b[43mmodel_provider\u001b[49m\u001b[43m)\u001b[49m\n\u001b[32m    341\u001b[39m     \u001b[38;5;28;01mif\u001b[39;00m model_provider == \u001b[33m\"\u001b[39m\u001b[33mopenai\u001b[39m\u001b[33m\"\u001b[39m:\n\u001b[32m    342\u001b[39m         _check_pkg(\u001b[33m\"\u001b[39m\u001b[33mlangchain_openai\u001b[39m\u001b[33m\"\u001b[39m)\n",
      "\u001b[36mFile \u001b[39m\u001b[32m/mnt/d/git/AI/ai-agents/.venv/lib/python3.13/site-packages/langchain/chat_models/base.py:524\u001b[39m, in \u001b[36m_parse_model\u001b[39m\u001b[34m(model, model_provider)\u001b[39m\n\u001b[32m    522\u001b[39m model_provider = model_provider \u001b[38;5;129;01mor\u001b[39;00m _attempt_infer_model_provider(model)\n\u001b[32m    523\u001b[39m \u001b[38;5;28;01mif\u001b[39;00m \u001b[38;5;129;01mnot\u001b[39;00m model_provider:\n\u001b[32m--> \u001b[39m\u001b[32m524\u001b[39m     \u001b[38;5;28;01mraise\u001b[39;00m \u001b[38;5;167;01mValueError\u001b[39;00m(\n\u001b[32m    525\u001b[39m         \u001b[33mf\u001b[39m\u001b[33m\"\u001b[39m\u001b[33mUnable to infer model provider for \u001b[39m\u001b[38;5;132;01m{\u001b[39;00mmodel\u001b[38;5;132;01m=}\u001b[39;00m\u001b[33m, please specify \u001b[39m\u001b[33m\"\u001b[39m\n\u001b[32m    526\u001b[39m         \u001b[33mf\u001b[39m\u001b[33m\"\u001b[39m\u001b[33mmodel_provider directly.\u001b[39m\u001b[33m\"\u001b[39m\n\u001b[32m    527\u001b[39m     )\n\u001b[32m    528\u001b[39m model_provider = model_provider.replace(\u001b[33m\"\u001b[39m\u001b[33m-\u001b[39m\u001b[33m\"\u001b[39m, \u001b[33m\"\u001b[39m\u001b[33m_\u001b[39m\u001b[33m\"\u001b[39m).lower()\n\u001b[32m    529\u001b[39m \u001b[38;5;28;01mreturn\u001b[39;00m model, model_provider\n",
      "\u001b[31mValueError\u001b[39m: Unable to infer model provider for model='ollama/qwen3:4b', please specify model_provider directly."
     ]
    }
   ],
   "source": [
    "def book_hotel(hotel_name: str):\n",
    "    \"\"\"Book a hotel\"\"\"\n",
    "    return f\"Successfully booked a stay at {hotel_name}.\"\n",
    "\n",
    "def book_flight(from_airport: str, to_airport: str):\n",
    "    \"\"\"Book a flight\"\"\"\n",
    "    return f\"Successfully booked a flight from {from_airport} to {to_airport}.\"\n",
    "\n",
    "flight_assistant = create_react_agent(\n",
    "    model=model,\n",
    "    tools=[book_flight],\n",
    "    prompt=\"You are a flight booking assistant\",\n",
    "    name=\"flight_assistant\"\n",
    ")\n",
    "\n",
    "hotel_assistant = create_react_agent(\n",
    "    model=model,\n",
    "    tools=[book_hotel],\n",
    "    prompt=\"You are a hotel booking assistant\",\n",
    "    name=\"hotel_assistant\"\n",
    ")\n",
    "\n",
    "supervisor = create_supervisor(\n",
    "    agents=[flight_assistant, hotel_assistant],\n",
    "    model=ChatOllama(model=model_name),\n",
    "    prompt=(\n",
    "        \"You manage a hotel booking assistant and a\"\n",
    "        \"flight booking assistant. Assign work to them.\"\n",
    "    )\n",
    ").compile()"
   ]
  },
  {
   "cell_type": "code",
   "execution_count": null,
   "id": "28907c2d-d501-4306-8ec4-74ea7d4baac1",
   "metadata": {},
   "outputs": [],
   "source": []
  }
 ],
 "metadata": {
  "kernelspec": {
   "display_name": "Python 3 (ipykernel)",
   "language": "python",
   "name": "python3"
  },
  "language_info": {
   "codemirror_mode": {
    "name": "ipython",
    "version": 3
   },
   "file_extension": ".py",
   "mimetype": "text/x-python",
   "name": "python",
   "nbconvert_exporter": "python",
   "pygments_lexer": "ipython3",
   "version": "3.13.2"
  }
 },
 "nbformat": 4,
 "nbformat_minor": 5
}
